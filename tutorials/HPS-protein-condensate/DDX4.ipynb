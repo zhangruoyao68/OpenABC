{
 "cells": [
  {
   "attachments": {},
   "cell_type": "markdown",
   "metadata": {},
   "source": [
    "# Tutorial for HPS single DDX4 "
   ]
  },
  {
   "cell_type": "code",
   "execution_count": 1,
   "metadata": {},
   "outputs": [
    {
     "data": {
      "application/vnd.jupyter.widget-view+json": {
       "model_id": "9dc919b3f19a453cb1d0ee7fe6d1a68a",
       "version_major": 2,
       "version_minor": 0
      },
      "text/plain": []
     },
     "metadata": {},
     "output_type": "display_data"
    }
   ],
   "source": [
    "# load packages\n",
    "import numpy as np\n",
    "import pandas as pd\n",
    "import sys\n",
    "try:\n",
    "    import openmm as mm\n",
    "    import openmm.app as app\n",
    "    import openmm.unit as unit\n",
    "except ImportError:\n",
    "    import simtk.openmm as mm\n",
    "    import simtk.openmm.app as app\n",
    "    import simtk.unit as unit\n",
    "\n",
    "import mdtraj\n",
    "try:\n",
    "    import nglview\n",
    "except ImportError:\n",
    "    print('Please install nglview to visualize molecules in the jupyter notebooks.')\n",
    "\n",
    "sys.path.append('../../')\n",
    "from openabc.forcefields.parsers import HPSParser\n",
    "from openabc.forcefields import HPSModel\n",
    "from openabc.utils.helper_functions import build_straight_CA_chain, write_pdb\n",
    "\n",
    "# set simulation platform\n",
    "platform_name = 'CPU'"
   ]
  },
  {
   "attachments": {},
   "cell_type": "markdown",
   "metadata": {},
   "source": [
    "We simulate a DDX4 protein with HPS model. We begin with building a straight CA atom chain with DDX4 sequence. We use `HPSParser` to parse the CA model."
   ]
  },
  {
   "cell_type": "code",
   "execution_count": 2,
   "metadata": {},
   "outputs": [
    {
     "name": "stdout",
     "output_type": "stream",
     "text": [
      "Parse molecule with default settings.\n"
     ]
    }
   ],
   "source": [
    "sequence = 'MGDEDWEAEINPHMSSYVPIFEKDRYSGENGDNFNRTPASSSEMDDGPSRRDHFMKSGFASGRNFGNRDAGECNKRDNTSTMGGFGVGKSFGNRGFSNSRFEDGDSSGFWRESSNDCEDNPTRNRGFSKRGGYRDGNNSEASGPYRRGGRGSFRGCRGGFGLGSPNNDLDPDECMQRTGGLFGSRRPVLSGTGNGDTSQSRSGSGSERGGYKGLNEEVITGSGKNSWKSEAEGGES'\n",
    "ca_pdb = 'init_DDX4_CA.pdb'\n",
    "ca_atoms = build_straight_CA_chain(sequence, r0=0.38)\n",
    "write_pdb(ca_atoms, ca_pdb)\n",
    "protein_parser = HPSParser(ca_pdb)\n",
    "protein = HPSModel()\n",
    "protein.append_mol(protein_parser)"
   ]
  },
  {
   "attachments": {},
   "cell_type": "markdown",
   "metadata": {},
   "source": [
    "Use the Urry scale optimal parameter ($\\mu=1$ and $\\Delta=0.08$) and run the simulation. "
   ]
  },
  {
   "cell_type": "code",
   "execution_count": 3,
   "metadata": {},
   "outputs": [
    {
     "name": "stdout",
     "output_type": "stream",
     "text": [
      "Add protein bonds.\n",
      "Add nonbonded contacts.\n",
      "Use Urry hydropathy scale.\n",
      "Scale factor mu = 1 and shift delta = 0.08.\n",
      "Add Debye-Huckel electrostatic interactions.\n",
      "Set Debye length as 1 nm.\n",
      "Set water dielectric as 80.0.\n",
      "Use platform: CPU\n",
      "#\"Step\",\"Time (ps)\",\"Potential Energy (kJ/mole)\",\"Kinetic Energy (kJ/mole)\",\"Total Energy (kJ/mole)\",\"Temperature (K)\",\"Speed (ns/day)\"\n",
      "100,1.0000000000000007,381.5090961592769,791.5938839493183,1173.1029801085951,270.09038485107203,0\n",
      "200,2.0000000000000013,447.22226752854186,914.0567649033711,1361.279032431913,311.87449576642217,185\n",
      "300,2.99999999999998,545.5821257116296,900.1396844237371,1445.7218101353667,307.12601337038035,186\n",
      "400,3.9999999999999587,498.03454525917573,964.0987293811315,1462.1332746403073,328.94872248615184,186\n",
      "500,4.999999999999938,519.3133253109844,962.5798690669659,1481.8931943779503,328.4304901259656,188\n"
     ]
    }
   ],
   "source": [
    "top = app.PDBFile(ca_pdb).getTopology()\n",
    "init_coord = app.PDBFile(ca_pdb).getPositions()\n",
    "protein.create_system(top, box_a=100, box_b=100, box_c=100)\n",
    "protein.add_protein_bonds(force_group=1)\n",
    "protein.add_contacts('Urry', mu=1, delta=0.08, force_group=2)\n",
    "protein.add_dh_elec(force_group=3)\n",
    "temperature = 300*unit.kelvin\n",
    "friction_coeff = 1/unit.picosecond\n",
    "timestep = 10*unit.femtosecond\n",
    "integrator = mm.LangevinMiddleIntegrator(temperature, friction_coeff, timestep)\n",
    "platform_name = 'CPU'\n",
    "protein.set_simulation(integrator, platform_name, init_coord=init_coord)\n",
    "protein.simulation.minimizeEnergy()\n",
    "output_interval = 100\n",
    "output_dcd = 'output_single_DDX4.dcd'\n",
    "protein.add_reporters(output_interval, output_dcd)\n",
    "protein.simulation.context.setVelocitiesToTemperature(temperature)\n",
    "protein.simulation.step(500)"
   ]
  },
  {
   "cell_type": "code",
   "execution_count": 4,
   "metadata": {},
   "outputs": [
    {
     "data": {
      "application/vnd.jupyter.widget-view+json": {
       "model_id": "f0e3a11b935f4d87b81c370b58614002",
       "version_major": 2,
       "version_minor": 0
      },
      "text/plain": [
       "NGLWidget(max_frame=4)"
      ]
     },
     "metadata": {},
     "output_type": "display_data"
    }
   ],
   "source": [
    "# visualize trajectory\n",
    "traj = mdtraj.load_dcd('output_single_DDX4.dcd', top=ca_pdb)\n",
    "traj.xyz -= np.mean(traj.xyz, axis=1, keepdims=True) # realign to the origin\n",
    "view = nglview.show_mdtraj(traj)\n",
    "view"
   ]
  },
  {
   "cell_type": "code",
   "execution_count": null,
   "metadata": {},
   "outputs": [],
   "source": []
  }
 ],
 "metadata": {
  "kernelspec": {
   "display_name": "cgmd",
   "language": "python",
   "name": "python3"
  },
  "language_info": {
   "codemirror_mode": {
    "name": "ipython",
    "version": 3
   },
   "file_extension": ".py",
   "mimetype": "text/x-python",
   "name": "python",
   "nbconvert_exporter": "python",
   "pygments_lexer": "ipython3",
   "version": "3.13.1"
  }
 },
 "nbformat": 4,
 "nbformat_minor": 4
}
