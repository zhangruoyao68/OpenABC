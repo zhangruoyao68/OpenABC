{
 "cells": [
  {
   "cell_type": "code",
   "execution_count": null,
   "metadata": {},
   "outputs": [],
   "source": [
    "import numpy as np\n",
    "import pandas as pd\n",
    "try:\n",
    "    import openmm as mm\n",
    "    import openmm.app as app\n",
    "    import openmm.unit as unit\n",
    "except ImportError:\n",
    "    import simtk.openmm as mm\n",
    "    import simtk.openmm.app as app\n",
    "    import simtk.unit as unit\n",
    "import mdtraj\n",
    "import sys\n",
    "import os\n",
    "\n",
    "try:\n",
    "    import nglview\n",
    "except ImportError:\n",
    "    print('Please install nglview to visualize molecules in the jupyter notebooks.')\n",
    "\n",
    "sys.path.append('../..')\n",
    "from openabc.forcefields.parsers import MpipiProteinParser, MpipiRNAParser\n",
    "from openabc.forcefields.mpipi_model import MpipiModel\n",
    "import openabc.utils.helper_functions as helper_functions\n",
    "from openabc.utils.insert import insert_molecules\n"
   ]
  },
  {
   "attachments": {},
   "cell_type": "markdown",
   "metadata": {},
   "source": [
    "Here we show how to use Mpipi model to set up protein-RNA simulations. We use a mixture of polyR, polyK, and polyU as an example. First we build individual CG chains with given sequence, then we insert chains into a simulation box. Finally we run the MD simulation. "
   ]
  },
  {
   "cell_type": "code",
   "execution_count": null,
   "metadata": {},
   "outputs": [],
   "source": [
    "# build residue level CG atom chains\n",
    "polyR_atoms = helper_functions.build_straight_CA_chain('RRRRRRRRRR')\n",
    "polyR_atoms.loc[:, 'chainID'] = 'A'\n",
    "helper_functions.write_pdb(polyR_atoms, 'polyR_CA.pdb')\n",
    "polyK_atoms = helper_functions.build_straight_CA_chain('KKKKKKKKKK')\n",
    "polyK_atoms.loc[:, 'chainID'] = 'B'\n",
    "helper_functions.write_pdb(polyK_atoms, 'polyK_CA.pdb')\n",
    "polyU_atoms = helper_functions.build_straight_chain(n_atoms=10, chainID='C', r0=0.5) # for RNA, r0 is 0.5 nm\n",
    "polyU_atoms.loc[:, 'name'] = 'RN' # set CG nucleotide atom name as RN\n",
    "polyU_atoms.loc[:, 'resname'] = 'U' # residue name is U\n",
    "helper_functions.write_pdb(polyU_atoms, 'polyU_CG.pdb')\n",
    "\n",
    "# parse individual protein and RNA\n",
    "polyR = MpipiProteinParser('polyR_CA.pdb')\n",
    "polyK = MpipiProteinParser('polyK_CA.pdb')\n",
    "polyU = MpipiRNAParser('polyU_CG.pdb')"
   ]
  },
  {
   "cell_type": "code",
   "execution_count": null,
   "metadata": {},
   "outputs": [],
   "source": [
    "# insert chains into a box\n",
    "# for simplicity, just insert 2 copies of each sequence\n",
    "insert_molecules('polyR_CA.pdb', 'tmp1.pdb', n_mol=2, box=[20, 20, 20])\n",
    "insert_molecules('polyK_CA.pdb', 'tmp2.pdb', n_mol=2, existing_pdb='tmp1.pdb', box=[20, 20, 20])\n",
    "insert_molecules('polyU_CG.pdb', 'start.pdb', n_mol=2, existing_pdb='tmp2.pdb', box=[20, 20, 20])"
   ]
  },
  {
   "cell_type": "code",
   "execution_count": null,
   "metadata": {},
   "outputs": [],
   "source": [
    "# visualize start.pdb\n",
    "start_pdb = mdtraj.load_pdb('start.pdb')\n",
    "view = nglview.show_mdtraj(start_pdb)\n",
    "view"
   ]
  },
  {
   "cell_type": "code",
   "execution_count": null,
   "metadata": {},
   "outputs": [],
   "source": [
    "# set up simulation\n",
    "top = app.PDBFile('start.pdb').getTopology()\n",
    "protein_rna = MpipiModel()\n",
    "for i in range(2):\n",
    "    protein_rna.append_mol(polyR)\n",
    "for i in range(2):\n",
    "    protein_rna.append_mol(polyK)\n",
    "for i in range(2):\n",
    "    protein_rna.append_mol(polyU)\n",
    "protein_rna.create_system(top, box_a=20, box_b=20, box_c=20)\n",
    "protein_rna.add_protein_bonds(force_group=1)\n",
    "protein_rna.add_rna_bonds(force_group=2)\n",
    "protein_rna.add_contacts(force_group=3)\n",
    "protein_rna.add_dh_elec(ldby=(1/1.26)*unit.nanometer, force_group=4)\n",
    "temperature = 300*unit.kelvin\n",
    "friction_coeff = 1/unit.picosecond\n",
    "timestep = 10*unit.femtosecond\n",
    "integrator = mm.LangevinMiddleIntegrator(temperature, friction_coeff, timestep)\n",
    "init_coord = app.PDBFile('start.pdb').getPositions()\n",
    "protein_rna.set_simulation(integrator, platform_name='CPU', init_coord=init_coord)\n",
    "protein_rna.simulation.minimizeEnergy()\n",
    "output_interval = 100\n",
    "output_dcd = 'output.dcd'\n",
    "protein_rna.add_reporters(output_interval, output_dcd)\n",
    "protein_rna.simulation.context.setVelocitiesToTemperature(temperature)\n",
    "protein_rna.simulation.step(500)"
   ]
  },
  {
   "cell_type": "code",
   "execution_count": null,
   "metadata": {},
   "outputs": [],
   "source": [
    "# view trajectory\n",
    "traj = mdtraj.load_dcd('output.dcd', top='start.pdb')\n",
    "traj.xyz -= np.mean(traj.xyz, axis=1, keepdims=True) # realign to the origin\n",
    "view = nglview.show_mdtraj(traj)\n",
    "view"
   ]
  }
 ],
 "metadata": {
  "kernelspec": {
   "display_name": "cgmd",
   "language": "python",
   "name": "python3"
  },
  "language_info": {
   "codemirror_mode": {
    "name": "ipython",
    "version": 3
   },
   "file_extension": ".py",
   "mimetype": "text/x-python",
   "name": "python",
   "nbconvert_exporter": "python",
   "pygments_lexer": "ipython3",
   "version": "3.13.1"
  },
  "orig_nbformat": 4
 },
 "nbformat": 4,
 "nbformat_minor": 2
}
