{
 "cells": [
  {
   "cell_type": "code",
   "execution_count": 1,
   "metadata": {},
   "outputs": [
    {
     "data": {
      "application/vnd.jupyter.widget-view+json": {
       "model_id": "0e166ad6f69c47a99fa5a08bd2344994",
       "version_major": 2,
       "version_minor": 0
      },
      "text/plain": []
     },
     "metadata": {},
     "output_type": "display_data"
    }
   ],
   "source": [
    "import numpy as np\n",
    "import pandas as pd\n",
    "try:\n",
    "    import openmm as mm\n",
    "    import openmm.app as app\n",
    "    import openmm.unit as unit\n",
    "except ImportError:\n",
    "    import simtk.openmm as mm\n",
    "    import simtk.openmm.app as app\n",
    "    import simtk.unit as unit\n",
    "import mdtraj\n",
    "import sys\n",
    "import os\n",
    "\n",
    "try:\n",
    "    import nglview\n",
    "except ImportError:\n",
    "    print('Please install nglview to visualize molecules in the jupyter notebooks.')\n",
    "\n",
    "sys.path.append('../..')\n",
    "from openabc.forcefields.parsers import MpipiProteinParser, MpipiRNAParser\n",
    "from openabc.forcefields.mpipi_model import MpipiModel\n",
    "import openabc.utils.helper_functions as helper_functions\n",
    "from openabc.utils.insert import insert_molecules\n"
   ]
  },
  {
   "attachments": {},
   "cell_type": "markdown",
   "metadata": {},
   "source": [
    "Here we show how to use Mpipi model to set up protein-RNA simulations. We use a mixture of polyR, polyK, and polyU as an example. First we build individual CG chains with given sequence, then we insert chains into a simulation box. Finally we run the MD simulation. "
   ]
  },
  {
   "cell_type": "code",
   "execution_count": 19,
   "metadata": {},
   "outputs": [
    {
     "name": "stdout",
     "output_type": "stream",
     "text": [
      "Parse molecule with default settings.\n",
      "Parse molecule with default settings.\n",
      "Parse molecule with default settings.\n"
     ]
    }
   ],
   "source": [
    "# build residue level CG atom chains\n",
    "polyR_atoms = helper_functions.build_straight_CA_chain('RRRRRRRRRR')\n",
    "#polyR_atoms = helper_functions.build_straight_CA_chain('GSMASASSSQRGRSGSGNFGGGRGGGFGGNDNFGRGGNFSGRGGFGGSRGGGGYGGSGDGYNGFGNDGSNFGGGGSYNDFGNYNNQSSNFGPMKGGNFGGRSSGGSGGGGQYFAKPRNQGGYGGSSSSSSYGSGRRF')\n",
    "polyR_atoms.loc[:, 'chainID'] = 'A'\n",
    "helper_functions.write_pdb(polyR_atoms, 'polyR_CA.pdb')\n",
    "polyK_atoms = helper_functions.build_straight_CA_chain('KKKKKKKKKK')\n",
    "polyK_atoms.loc[:, 'chainID'] = 'B'\n",
    "helper_functions.write_pdb(polyK_atoms, 'polyK_CA.pdb')\n",
    "polyU_atoms = helper_functions.build_straight_chain(n_atoms=10, chainID='C', r0=0.5) # for RNA, r0 is 0.5 nm\n",
    "polyU_atoms.loc[:, 'name'] = 'RN' # set CG nucleotide atom name as RN\n",
    "polyU_atoms.loc[:, 'resname'] = 'U' # residue name is U\n",
    "helper_functions.write_pdb(polyU_atoms, 'polyU_CG.pdb')\n",
    "\n",
    "# parse individual protein and RNA\n",
    "polyR = MpipiProteinParser('polyR_CA.pdb')\n",
    "polyK = MpipiProteinParser('polyK_CA.pdb')\n",
    "polyU = MpipiRNAParser('polyU_CG.pdb')"
   ]
  },
  {
   "cell_type": "code",
   "execution_count": 20,
   "metadata": {},
   "outputs": [
    {
     "name": "stdout",
     "output_type": "stream",
     "text": [
      "Successfully inserted 2 molecules.\n",
      "Successfully inserted 2 molecules.\n",
      "Successfully inserted 2 molecules.\n"
     ]
    }
   ],
   "source": [
    "# insert chains into a box\n",
    "# for simplicity, just insert 2 copies of each sequence\n",
    "insert_molecules('polyR_CA.pdb', 'tmp1.pdb', n_mol=2, box=[20, 20, 20])\n",
    "insert_molecules('polyK_CA.pdb', 'tmp2.pdb', n_mol=2, existing_pdb='tmp1.pdb', box=[20, 20, 20])\n",
    "insert_molecules('polyU_CG.pdb', 'start.pdb', n_mol=2, existing_pdb='tmp2.pdb', box=[20, 20, 20])"
   ]
  },
  {
   "cell_type": "code",
   "execution_count": 21,
   "metadata": {},
   "outputs": [
    {
     "data": {
      "application/vnd.jupyter.widget-view+json": {
       "model_id": "2e6144495df84021b2e67164190b00aa",
       "version_major": 2,
       "version_minor": 0
      },
      "text/plain": [
       "NGLWidget()"
      ]
     },
     "metadata": {},
     "output_type": "display_data"
    }
   ],
   "source": [
    "# visualize start.pdb\n",
    "start_pdb = mdtraj.load_pdb('start.pdb')\n",
    "view = nglview.show_mdtraj(start_pdb)\n",
    "view"
   ]
  },
  {
   "cell_type": "code",
   "execution_count": null,
   "metadata": {},
   "outputs": [
    {
     "name": "stdout",
     "output_type": "stream",
     "text": [
      "Add protein bonds.\n",
      "Add RNA bonds.\n",
      "Add nonbonded contacts.\n",
      "Add Debye-Huckel electrostatic interactions.\n",
      "Set Debye length as 0.7936507936507936 nm.\n",
      "Set water dielectric as 80.0.\n",
      "Use platform: CUDA\n",
      "Use precision: mixed\n",
      "#\"Step\",\"Time (ps)\",\"Potential Energy (kJ/mole)\",\"Kinetic Energy (kJ/mole)\",\"Total Energy (kJ/mole)\",\"Temperature (K)\",\"Speed (ns/day)\"\n"
     ]
    },
    {
     "ename": "ValueError",
     "evalue": "Energy is NaN.  For more information, see https://github.com/openmm/openmm/wiki/Frequently-Asked-Questions#nan",
     "output_type": "error",
     "traceback": [
      "\u001b[31m---------------------------------------------------------------------------\u001b[39m",
      "\u001b[31mValueError\u001b[39m                                Traceback (most recent call last)",
      "\u001b[36mCell\u001b[39m\u001b[36m \u001b[39m\u001b[32mIn[22]\u001b[39m\u001b[32m, line 26\u001b[39m\n\u001b[32m     24\u001b[39m protein_rna.add_reporters(output_interval, output_dcd)\n\u001b[32m     25\u001b[39m protein_rna.simulation.context.setVelocitiesToTemperature(temperature)\n\u001b[32m---> \u001b[39m\u001b[32m26\u001b[39m \u001b[43mprotein_rna\u001b[49m\u001b[43m.\u001b[49m\u001b[43msimulation\u001b[49m\u001b[43m.\u001b[49m\u001b[43mstep\u001b[49m\u001b[43m(\u001b[49m\u001b[32;43m5000\u001b[39;49m\u001b[43m)\u001b[49m\n",
      "\u001b[36mFile \u001b[39m\u001b[32m~/anaconda3/envs/cgmd/lib/python3.13/site-packages/openmm/app/simulation.py:150\u001b[39m, in \u001b[36mSimulation.step\u001b[39m\u001b[34m(self, steps)\u001b[39m\n\u001b[32m    147\u001b[39m \u001b[38;5;28;01mif\u001b[39;00m \u001b[38;5;28mint\u001b[39m(steps) != steps:\n\u001b[32m    148\u001b[39m     \u001b[38;5;28;01mraise\u001b[39;00m \u001b[38;5;167;01mTypeError\u001b[39;00m(\u001b[33mf\u001b[39m\u001b[33m'\u001b[39m\u001b[33mExpected an integer for steps, got \u001b[39m\u001b[38;5;132;01m{\u001b[39;00m\u001b[38;5;28mtype\u001b[39m(steps)\u001b[38;5;132;01m}\u001b[39;00m\u001b[33m'\u001b[39m)\n\u001b[32m--> \u001b[39m\u001b[32m150\u001b[39m \u001b[38;5;28;43mself\u001b[39;49m\u001b[43m.\u001b[49m\u001b[43m_simulate\u001b[49m\u001b[43m(\u001b[49m\u001b[43mendStep\u001b[49m\u001b[43m=\u001b[49m\u001b[38;5;28;43mself\u001b[39;49m\u001b[43m.\u001b[49m\u001b[43mcurrentStep\u001b[49m\u001b[43m+\u001b[49m\u001b[43msteps\u001b[49m\u001b[43m)\u001b[49m\n",
      "\u001b[36mFile \u001b[39m\u001b[32m~/anaconda3/envs/cgmd/lib/python3.13/site-packages/openmm/app/simulation.py:261\u001b[39m, in \u001b[36mSimulation._simulate\u001b[39m\u001b[34m(self, endStep, endTime)\u001b[39m\n\u001b[32m    258\u001b[39m \u001b[38;5;66;03m# Generate the reports.\u001b[39;00m\n\u001b[32m    260\u001b[39m \u001b[38;5;28;01mif\u001b[39;00m \u001b[38;5;28mlen\u001b[39m(wrapped) > \u001b[32m0\u001b[39m:\n\u001b[32m--> \u001b[39m\u001b[32m261\u001b[39m     \u001b[38;5;28;43mself\u001b[39;49m\u001b[43m.\u001b[49m\u001b[43m_generate_reports\u001b[49m\u001b[43m(\u001b[49m\u001b[43mwrapped\u001b[49m\u001b[43m,\u001b[49m\u001b[43m \u001b[49m\u001b[38;5;28;43;01mTrue\u001b[39;49;00m\u001b[43m)\u001b[49m\n\u001b[32m    262\u001b[39m \u001b[38;5;28;01mif\u001b[39;00m \u001b[38;5;28mlen\u001b[39m(unwrapped) > \u001b[32m0\u001b[39m:\n\u001b[32m    263\u001b[39m     \u001b[38;5;28mself\u001b[39m._generate_reports(unwrapped, \u001b[38;5;28;01mFalse\u001b[39;00m)\n",
      "\u001b[36mFile \u001b[39m\u001b[32m~/anaconda3/envs/cgmd/lib/python3.13/site-packages/openmm/app/simulation.py:282\u001b[39m, in \u001b[36mSimulation._generate_reports\u001b[39m\u001b[34m(self, reports, periodic)\u001b[39m\n\u001b[32m    280\u001b[39m state = \u001b[38;5;28mself\u001b[39m.context.getState(groups=\u001b[38;5;28mself\u001b[39m.context.getIntegrator().getIntegrationForceGroups(), enforcePeriodicBox=periodic, parameters=\u001b[38;5;28;01mTrue\u001b[39;00m, **includeArgs)\n\u001b[32m    281\u001b[39m \u001b[38;5;28;01mfor\u001b[39;00m reporter, nextReport \u001b[38;5;129;01min\u001b[39;00m reports:\n\u001b[32m--> \u001b[39m\u001b[32m282\u001b[39m     \u001b[43mreporter\u001b[49m\u001b[43m.\u001b[49m\u001b[43mreport\u001b[49m\u001b[43m(\u001b[49m\u001b[38;5;28;43mself\u001b[39;49m\u001b[43m,\u001b[49m\u001b[43m \u001b[49m\u001b[43mstate\u001b[49m\u001b[43m)\u001b[49m\n",
      "\u001b[36mFile \u001b[39m\u001b[32m~/anaconda3/envs/cgmd/lib/python3.13/site-packages/openmm/app/statedatareporter.py:204\u001b[39m, in \u001b[36mStateDataReporter.report\u001b[39m\u001b[34m(self, simulation, state)\u001b[39m\n\u001b[32m    201\u001b[39m     \u001b[38;5;28mself\u001b[39m._hasInitialized = \u001b[38;5;28;01mTrue\u001b[39;00m\n\u001b[32m    203\u001b[39m \u001b[38;5;66;03m# Check for errors.\u001b[39;00m\n\u001b[32m--> \u001b[39m\u001b[32m204\u001b[39m \u001b[38;5;28;43mself\u001b[39;49m\u001b[43m.\u001b[49m\u001b[43m_checkForErrors\u001b[49m\u001b[43m(\u001b[49m\u001b[43msimulation\u001b[49m\u001b[43m,\u001b[49m\u001b[43m \u001b[49m\u001b[43mstate\u001b[49m\u001b[43m)\u001b[49m\n\u001b[32m    206\u001b[39m \u001b[38;5;66;03m# Query for the values\u001b[39;00m\n\u001b[32m    207\u001b[39m values = \u001b[38;5;28mself\u001b[39m._constructReportValues(simulation, state)\n",
      "\u001b[36mFile \u001b[39m\u001b[32m~/anaconda3/envs/cgmd/lib/python3.13/site-packages/openmm/app/statedatareporter.py:363\u001b[39m, in \u001b[36mStateDataReporter._checkForErrors\u001b[39m\u001b[34m(self, simulation, state)\u001b[39m\n\u001b[32m    361\u001b[39m energy = (state.getKineticEnergy()+state.getPotentialEnergy()).value_in_unit(unit.kilojoules_per_mole)\n\u001b[32m    362\u001b[39m \u001b[38;5;28;01mif\u001b[39;00m math.isnan(energy):\n\u001b[32m--> \u001b[39m\u001b[32m363\u001b[39m     \u001b[38;5;28;01mraise\u001b[39;00m \u001b[38;5;167;01mValueError\u001b[39;00m(\u001b[33m'\u001b[39m\u001b[33mEnergy is NaN.  For more information, see https://github.com/openmm/openmm/wiki/Frequently-Asked-Questions#nan\u001b[39m\u001b[33m'\u001b[39m)\n\u001b[32m    364\u001b[39m \u001b[38;5;28;01mif\u001b[39;00m math.isinf(energy):\n\u001b[32m    365\u001b[39m     \u001b[38;5;28;01mraise\u001b[39;00m \u001b[38;5;167;01mValueError\u001b[39;00m(\u001b[33m'\u001b[39m\u001b[33mEnergy is infinite.  For more information, see https://github.com/openmm/openmm/wiki/Frequently-Asked-Questions#nan\u001b[39m\u001b[33m'\u001b[39m)\n",
      "\u001b[31mValueError\u001b[39m: Energy is NaN.  For more information, see https://github.com/openmm/openmm/wiki/Frequently-Asked-Questions#nan"
     ]
    }
   ],
   "source": [
    "# set up simulation\n",
    "top = app.PDBFile('start.pdb').getTopology()\n",
    "protein_rna = MpipiModel()\n",
    "for i in range(2):\n",
    "    protein_rna.append_mol(polyR)\n",
    "for i in range(2):\n",
    "    protein_rna.append_mol(polyK)\n",
    "for i in range(2):\n",
    "    protein_rna.append_mol(polyU)\n",
    "protein_rna.create_system(top, box_a=20, box_b=20, box_c=20)\n",
    "protein_rna.add_protein_bonds(force_group=1)\n",
    "protein_rna.add_rna_bonds(force_group=2)\n",
    "protein_rna.add_contacts(force_group=3)\n",
    "protein_rna.add_dh_elec(ldby=(1/1.26)*unit.nanometer, force_group=4)\n",
    "temperature = 300*unit.kelvin\n",
    "friction_coeff = 1/unit.picosecond\n",
    "timestep = 10*unit.femtosecond\n",
    "integrator = mm.LangevinMiddleIntegrator(temperature, friction_coeff, timestep)\n",
    "init_coord = app.PDBFile('start.pdb').getPositions()\n",
    "protein_rna.set_simulation(integrator, platform_name='CPU', init_coord=init_coord)\n",
    "protein_rna.simulation.minimizeEnergy()\n",
    "output_interval = 100\n",
    "output_dcd = 'output.dcd'\n",
    "protein_rna.add_reporters(output_interval, output_dcd)\n",
    "protein_rna.simulation.context.setVelocitiesToTemperature(temperature)\n",
    "protein_rna.simulation.step(5000)"
   ]
  },
  {
   "cell_type": "code",
   "execution_count": 13,
   "metadata": {},
   "outputs": [
    {
     "data": {
      "application/vnd.jupyter.widget-view+json": {
       "model_id": "fba031b9503b469987d6ce44a90bc898",
       "version_major": 2,
       "version_minor": 0
      },
      "text/plain": [
       "NGLWidget(max_frame=49)"
      ]
     },
     "metadata": {},
     "output_type": "display_data"
    }
   ],
   "source": [
    "# view trajectory\n",
    "traj = mdtraj.load_dcd('output.dcd', top='start.pdb')\n",
    "traj.xyz -= np.mean(traj.xyz, axis=1, keepdims=True) # realign to the origin\n",
    "view = nglview.show_mdtraj(traj)\n",
    "#view.background = 'black'\n",
    "view"
   ]
  },
  {
   "cell_type": "code",
   "execution_count": null,
   "metadata": {},
   "outputs": [],
   "source": []
  }
 ],
 "metadata": {
  "kernelspec": {
   "display_name": "cgmd",
   "language": "python",
   "name": "python3"
  },
  "language_info": {
   "codemirror_mode": {
    "name": "ipython",
    "version": 3
   },
   "file_extension": ".py",
   "mimetype": "text/x-python",
   "name": "python",
   "nbconvert_exporter": "python",
   "pygments_lexer": "ipython3",
   "version": "3.13.2"
  },
  "orig_nbformat": 4
 },
 "nbformat": 4,
 "nbformat_minor": 2
}
