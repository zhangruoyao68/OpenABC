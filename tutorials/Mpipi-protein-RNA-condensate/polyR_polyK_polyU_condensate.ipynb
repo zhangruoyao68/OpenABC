{
 "cells": [
  {
   "cell_type": "code",
   "execution_count": 1,
   "metadata": {},
   "outputs": [
    {
     "data": {
      "application/vnd.jupyter.widget-view+json": {
       "model_id": "6bad0ef561c94a358834045f83e9f099",
       "version_major": 2,
       "version_minor": 0
      },
      "text/plain": []
     },
     "metadata": {},
     "output_type": "display_data"
    }
   ],
   "source": [
    "import numpy as np\n",
    "import pandas as pd\n",
    "try:\n",
    "    import openmm as mm\n",
    "    import openmm.app as app\n",
    "    import openmm.unit as unit\n",
    "except ImportError:\n",
    "    import simtk.openmm as mm\n",
    "    import simtk.openmm.app as app\n",
    "    import simtk.unit as unit\n",
    "import mdtraj\n",
    "import sys\n",
    "import os\n",
    "\n",
    "try:\n",
    "    import nglview\n",
    "except ImportError:\n",
    "    print('Please install nglview to visualize molecules in the jupyter notebooks.')\n",
    "\n",
    "sys.path.append('../..')\n",
    "from openabc.forcefields.parsers import MpipiProteinParser, MpipiRNAParser\n",
    "from openabc.forcefields.mpipi_model import MpipiModel\n",
    "import openabc.utils.helper_functions as helper_functions\n",
    "from openabc.utils.insert import insert_molecules\n"
   ]
  },
  {
   "attachments": {},
   "cell_type": "markdown",
   "metadata": {},
   "source": [
    "Here we show how to use Mpipi model to set up protein-RNA simulations. We use a mixture of polyR, polyK, and polyU as an example. First we build individual CG chains with given sequence, then we insert chains into a simulation box. Finally we run the MD simulation. "
   ]
  },
  {
   "cell_type": "code",
   "execution_count": 2,
   "metadata": {},
   "outputs": [
    {
     "name": "stdout",
     "output_type": "stream",
     "text": [
      "Parse molecule with default settings.\n",
      "Parse molecule with default settings.\n",
      "Parse molecule with default settings.\n"
     ]
    }
   ],
   "source": [
    "# build residue level CG atom chains\n",
    "polyR_atoms = helper_functions.build_straight_CA_chain('RRRRRRRRRR')\n",
    "polyR_atoms.loc[:, 'chainID'] = 'A'\n",
    "helper_functions.write_pdb(polyR_atoms, 'polyR_CA.pdb')\n",
    "polyK_atoms = helper_functions.build_straight_CA_chain('KKKKKKKKKK')\n",
    "polyK_atoms.loc[:, 'chainID'] = 'B'\n",
    "helper_functions.write_pdb(polyK_atoms, 'polyK_CA.pdb')\n",
    "polyU_atoms = helper_functions.build_straight_chain(n_atoms=10, chainID='C', r0=0.5) # for RNA, r0 is 0.5 nm\n",
    "polyU_atoms.loc[:, 'name'] = 'RN' # set CG nucleotide atom name as RN\n",
    "polyU_atoms.loc[:, 'resname'] = 'U' # residue name is U\n",
    "helper_functions.write_pdb(polyU_atoms, 'polyU_CG.pdb')\n",
    "\n",
    "# parse individual protein and RNA\n",
    "polyR = MpipiProteinParser('polyR_CA.pdb')\n",
    "polyK = MpipiProteinParser('polyK_CA.pdb')\n",
    "polyU = MpipiRNAParser('polyU_CG.pdb')"
   ]
  },
  {
   "cell_type": "code",
   "execution_count": 3,
   "metadata": {},
   "outputs": [
    {
     "name": "stdout",
     "output_type": "stream",
     "text": [
      "Successfully inserted 2 molecules.\n",
      "Successfully inserted 2 molecules.\n",
      "Successfully inserted 2 molecules.\n"
     ]
    }
   ],
   "source": [
    "# insert chains into a box\n",
    "# for simplicity, just insert 2 copies of each sequence\n",
    "insert_molecules('polyR_CA.pdb', 'tmp1.pdb', n_mol=2, box=[20, 20, 20])\n",
    "insert_molecules('polyK_CA.pdb', 'tmp2.pdb', n_mol=2, existing_pdb='tmp1.pdb', box=[20, 20, 20])\n",
    "insert_molecules('polyU_CG.pdb', 'start.pdb', n_mol=2, existing_pdb='tmp2.pdb', box=[20, 20, 20])"
   ]
  },
  {
   "cell_type": "code",
   "execution_count": 4,
   "metadata": {},
   "outputs": [
    {
     "data": {
      "application/vnd.jupyter.widget-view+json": {
       "model_id": "c12a890334974e78b5bd899e4394473c",
       "version_major": 2,
       "version_minor": 0
      },
      "text/plain": [
       "NGLWidget()"
      ]
     },
     "metadata": {},
     "output_type": "display_data"
    }
   ],
   "source": [
    "# visualize start.pdb\n",
    "start_pdb = mdtraj.load_pdb('start.pdb')\n",
    "view = nglview.show_mdtraj(start_pdb)\n",
    "view"
   ]
  },
  {
   "cell_type": "code",
   "execution_count": 5,
   "metadata": {},
   "outputs": [
    {
     "name": "stdout",
     "output_type": "stream",
     "text": [
      "Add protein bonds.\n",
      "Add RNA bonds.\n",
      "Add nonbonded contacts.\n",
      "Add Debye-Huckel electrostatic interactions.\n",
      "Set Debye length as 0.7936507936507936 nm.\n",
      "Set water dielectric as 80.0.\n",
      "Use platform: CPU\n",
      "#\"Step\",\"Time (ps)\",\"Potential Energy (kJ/mole)\",\"Kinetic Energy (kJ/mole)\",\"Total Energy (kJ/mole)\",\"Temperature (K)\",\"Speed (ns/day)\"\n",
      "100,1.0000000000000007,104.82590655320087,226.29463480632816,331.12054135952906,307.53659504735293,0\n",
      "200,2.0000000000000013,102.83935551709224,187.47118203139945,290.3105375484917,254.77514763344632,211\n",
      "300,2.99999999999998,84.80793102350162,223.22888850752935,308.03681953103097,303.37021620757827,206\n",
      "400,3.9999999999999587,120.44055210880184,225.08098616262842,345.52153827143025,305.88723481489893,208\n",
      "500,4.999999999999938,83.47948299019694,230.77113748343567,314.2506204736326,313.62020543527143,208\n",
      "600,5.9999999999999165,112.33935966990101,212.40935963526883,324.74871930516986,288.66637193730094,210\n",
      "700,6.999999999999895,92.38802375657855,211.0146042696783,303.4026280262568,286.77088592003486,210\n",
      "800,7.999999999999874,106.20446436847503,223.11807944256267,329.3225438110377,303.2196256177068,210\n",
      "900,8.999999999999853,84.27687473703037,247.0572920870457,331.3341668240761,335.75324689025575,210\n",
      "1000,9.999999999999831,90.11194089112011,200.87928316995487,290.991224061075,272.99688662310865,210\n",
      "1100,10.99999999999981,109.69976973609947,213.58493667674637,323.2847064128458,290.26399249450617,211\n",
      "1200,11.999999999999789,109.03251706866158,220.33332318389094,329.3658402525525,299.4351149572501,211\n",
      "1300,12.999999999999767,106.76779260548909,256.19423201483033,362.9620246203194,348.1704365286577,211\n",
      "1400,13.999999999999746,123.4276953953542,225.252019876407,348.6797152717612,306.1196712843662,212\n",
      "1500,14.999999999999725,98.8608348186881,257.12592590300915,355.98676072169724,349.43661752425294,212\n",
      "1600,15.999999999999703,105.48734745912218,230.28564169625025,335.77298915537244,312.960411969869,212\n",
      "1700,16.999999999999858,117.07010084286651,223.2328488837251,340.3029497265916,303.3755983970915,213\n",
      "1800,18.000000000000014,99.89485358865323,226.32084336424694,326.2156969529002,307.5722127307785,213\n",
      "1900,19.00000000000017,112.85680707342689,235.322963113338,348.1797701867649,319.8061804437708,213\n",
      "2000,20.000000000000327,101.3257802444238,195.3297191226862,296.65549936711,265.45497546575905,213\n",
      "2100,21.000000000000483,107.5567811293291,217.39610555948775,324.9528866888169,295.44340782775885,213\n",
      "2200,22.00000000000064,126.66325308658921,221.53150947255423,348.19476255914344,301.06346169982004,213\n",
      "2300,23.000000000000796,98.4936239356865,218.60549415561204,317.0991180912985,297.08697861439936,212\n",
      "2400,24.000000000000952,99.99379842864195,234.61323490490253,334.60703333354445,318.84165295146806,212\n",
      "2500,25.00000000000111,130.13109111253814,216.36845124205936,346.4995423545975,294.0468156816918,212\n",
      "2600,26.000000000001265,83.3360994986494,256.51957872368695,339.85567822233634,348.61258584933097,212\n",
      "2700,27.00000000000142,114.82575726836325,178.59526091619898,293.42101818456223,242.71268508317942,212\n",
      "2800,28.000000000001577,110.45564777293518,199.0087912544733,309.4644390274085,270.45487003821205,212\n",
      "2900,29.000000000001734,86.86328066190137,213.0269817159504,299.89026237785174,289.5057263121028,213\n",
      "3000,30.00000000000189,105.90961608256653,256.3396154772537,362.2492315598202,348.3680140587133,213\n",
      "3100,31.000000000002046,96.41578709768623,248.13421521257268,344.55000231025895,337.2167958225394,213\n",
      "3200,32.0000000000022,96.07547148040689,212.6031281782951,308.67859965870196,288.9297052593684,213\n",
      "3300,33.000000000002004,101.362384575049,177.17584645651038,278.5382310315594,240.7836871187902,213\n",
      "3400,34.000000000001805,92.96360062468082,230.58819469924728,323.5517953239281,313.3715844240577,213\n",
      "3500,35.000000000001606,97.39785854880964,230.17416760034777,327.5720261491574,312.8089175965306,213\n",
      "3600,36.00000000000141,110.46501125807995,198.22533170673557,308.6903429648155,269.39014094344225,213\n",
      "3700,37.00000000000121,125.41706415170323,245.6233197180155,371.0403838697187,333.80446458642007,214\n",
      "3800,38.00000000000101,126.79090165541022,227.8486089644394,354.6395106198496,309.64846094194695,214\n",
      "3900,39.00000000000081,114.71196792363303,231.19851100010914,345.9104789237422,314.20101017349975,214\n",
      "4000,40.00000000000061,103.87087886004687,223.69346972946965,327.5643485895165,304.00158657674655,214\n",
      "4100,41.00000000000041,116.22868590977944,245.27086258272686,361.4995484925063,333.32547193429826,214\n",
      "4200,42.00000000000021,95.16096645198942,242.06385220187443,337.22481865386385,328.96711384218986,214\n",
      "4300,43.000000000000014,106.0500890362676,218.8157970943704,324.865886130638,297.37278234001377,214\n",
      "4400,43.999999999999815,114.48409037779975,207.0778123830736,321.56190276087335,281.4207477108253,214\n",
      "4500,44.999999999999616,111.6389545876669,218.10985373578086,329.74880832344775,296.41339849521904,214\n",
      "4600,45.99999999999942,93.61371301837299,211.16006948286037,304.77378250123337,286.9685745501614,214\n",
      "4700,46.99999999999922,123.18355848430684,225.51603454610697,348.6995930304138,306.4784697712661,214\n",
      "4800,47.99999999999902,104.74088184100165,220.21016233530267,324.9510441763043,299.26773817410015,214\n",
      "4900,48.99999999999882,101.82498016649046,232.2975698374373,334.12255000392776,315.69464175198544,214\n",
      "5000,49.99999999999862,101.46477122522896,238.60473634104252,340.06950756627145,324.2661419670724,214\n"
     ]
    }
   ],
   "source": [
    "# set up simulation\n",
    "top = app.PDBFile('start.pdb').getTopology()\n",
    "protein_rna = MpipiModel()\n",
    "for i in range(2):\n",
    "    protein_rna.append_mol(polyR)\n",
    "for i in range(2):\n",
    "    protein_rna.append_mol(polyK)\n",
    "for i in range(2):\n",
    "    protein_rna.append_mol(polyU)\n",
    "protein_rna.create_system(top, box_a=20, box_b=20, box_c=20)\n",
    "protein_rna.add_protein_bonds(force_group=1)\n",
    "protein_rna.add_rna_bonds(force_group=2)\n",
    "protein_rna.add_contacts(force_group=3)\n",
    "protein_rna.add_dh_elec(ldby=(1/1.26)*unit.nanometer, force_group=4)\n",
    "temperature = 300*unit.kelvin\n",
    "friction_coeff = 1/unit.picosecond\n",
    "timestep = 10*unit.femtosecond\n",
    "integrator = mm.LangevinMiddleIntegrator(temperature, friction_coeff, timestep)\n",
    "init_coord = app.PDBFile('start.pdb').getPositions()\n",
    "protein_rna.set_simulation(integrator, platform_name='CPU', init_coord=init_coord)\n",
    "protein_rna.simulation.minimizeEnergy()\n",
    "output_interval = 100\n",
    "output_dcd = 'output.dcd'\n",
    "protein_rna.add_reporters(output_interval, output_dcd)\n",
    "protein_rna.simulation.context.setVelocitiesToTemperature(temperature)\n",
    "protein_rna.simulation.step(5000)"
   ]
  },
  {
   "cell_type": "code",
   "execution_count": 6,
   "metadata": {},
   "outputs": [
    {
     "data": {
      "application/vnd.jupyter.widget-view+json": {
       "model_id": "b6a153f8cc4645618c0196f3a89c7219",
       "version_major": 2,
       "version_minor": 0
      },
      "text/plain": [
       "NGLWidget(max_frame=49)"
      ]
     },
     "metadata": {},
     "output_type": "display_data"
    }
   ],
   "source": [
    "# view trajectory\n",
    "traj = mdtraj.load_dcd('output.dcd', top='start.pdb')\n",
    "traj.xyz -= np.mean(traj.xyz, axis=1, keepdims=True) # realign to the origin\n",
    "view = nglview.show_mdtraj(traj)\n",
    "view"
   ]
  }
 ],
 "metadata": {
  "kernelspec": {
   "display_name": "cgmd",
   "language": "python",
   "name": "python3"
  },
  "language_info": {
   "codemirror_mode": {
    "name": "ipython",
    "version": 3
   },
   "file_extension": ".py",
   "mimetype": "text/x-python",
   "name": "python",
   "nbconvert_exporter": "python",
   "pygments_lexer": "ipython3",
   "version": "3.13.1"
  },
  "orig_nbformat": 4
 },
 "nbformat": 4,
 "nbformat_minor": 2
}
