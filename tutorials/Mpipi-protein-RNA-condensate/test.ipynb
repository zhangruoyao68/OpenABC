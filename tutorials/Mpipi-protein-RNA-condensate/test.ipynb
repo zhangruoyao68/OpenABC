{
 "cells": [
  {
   "cell_type": "code",
   "execution_count": 1,
   "metadata": {},
   "outputs": [
    {
     "data": {
      "application/vnd.jupyter.widget-view+json": {
       "model_id": "0babfc96c9bf4008b0d7f3f16d3798bc",
       "version_major": 2,
       "version_minor": 0
      },
      "text/plain": []
     },
     "metadata": {},
     "output_type": "display_data"
    }
   ],
   "source": [
    "import numpy as np\n",
    "import pandas as pd\n",
    "try:\n",
    "    import openmm as mm\n",
    "    import openmm.app as app\n",
    "    import openmm.unit as unit\n",
    "except ImportError:\n",
    "    import simtk.openmm as mm\n",
    "    import simtk.openmm.app as app\n",
    "    import simtk.unit as unit\n",
    "import mdtraj\n",
    "import sys\n",
    "import os\n",
    "\n",
    "try:\n",
    "    import nglview\n",
    "except ImportError:\n",
    "    print('Please install nglview to visualize molecules in the jupyter notebooks.')\n",
    "\n",
    "sys.path.append('../..')\n",
    "from openabc.forcefields.parsers import MpipiProteinParser, MpipiRNAParser\n",
    "from openabc.forcefields.mpipi_model import MpipiModel\n",
    "import openabc.utils.helper_functions as helper_functions\n",
    "from openabc.utils.insert import insert_molecules\n",
    "\n",
    "# set simulation platform\n",
    "#platform_name = 'CPU'\n",
    "platform_name = 'CUDA'\n",
    "#platform_name = 'OpenCL'\n"
   ]
  },
  {
   "attachments": {},
   "cell_type": "markdown",
   "metadata": {},
   "source": [
    "Here we show how to use Mpipi model to set up protein-RNA simulations. We use a mixture of polyR, polyK, and polyU as an example. First we build individual CG chains with given sequence, then we insert chains into a simulation box. Finally we run the MD simulation. "
   ]
  },
  {
   "cell_type": "code",
   "execution_count": 2,
   "metadata": {},
   "outputs": [
    {
     "name": "stdout",
     "output_type": "stream",
     "text": [
      "Parse molecule with default settings.\n"
     ]
    }
   ],
   "source": [
    "# build residue level CG atom chains\n",
    "sequence = 'GSMASASSSQRGRSGSGNFGGGRGGGFGGNDNFGRGGNFSGRGGFGGSRGGGGYGGSGDGYNGFGNDGSNFGGGGSYNDFGNYNNQSSNFGPMKGGNFGGRSSGGSGGGGQYFAKPRNQGGYGGSSSSSSYGSGRRF' # WT\n",
    "#sequence = 'GSMASASSSQRGRSGSGNSGGGRGGGFGGNDNFGRGGNSSGRGGFGGSRGGGGYGGSGDGYNGFGNDGSNSGGGGSSNDFGNYNNQSSNFGPMKGGNFGGRSSGGSGGGGQYSAKPRNQGGYGGSSSSSSSGSGRRF' # ARO-\n",
    "ca_pdb = 'init_A1LCD_WT_CA.pdb'\n",
    "ca_atoms = helper_functions.build_straight_CA_chain(sequence) # r0=0.38\n",
    "helper_functions.write_pdb(ca_atoms, ca_pdb)\n",
    "\n",
    "# parse individual protein and RNA\n",
    "a1lcd = MpipiProteinParser(ca_pdb)\n",
    "#polyU = MpipiRNAParser('polyU_CG.pdb')"
   ]
  },
  {
   "cell_type": "code",
   "execution_count": 3,
   "metadata": {},
   "outputs": [
    {
     "name": "stdout",
     "output_type": "stream",
     "text": [
      "Successfully inserted 50 molecules.\n"
     ]
    }
   ],
   "source": [
    "# insert chains into a box\n",
    "n_mol = 50\n",
    "box_size = 100\n",
    "if not os.path.exists('start.pdb'):\n",
    "    insert_molecules(ca_pdb, 'start.pdb', n_mol, box=[box_size, box_size, box_size])\n",
    "else:\n",
    "    # delete and create a new start.pdb\n",
    "    # otherwise, there will be an error for init_coord in the next step\n",
    "    os.remove('start.pdb')\n",
    "    insert_molecules(ca_pdb, 'start.pdb', n_mol, box=[box_size, box_size, box_size])"
   ]
  },
  {
   "cell_type": "code",
   "execution_count": 4,
   "metadata": {},
   "outputs": [
    {
     "data": {
      "application/vnd.jupyter.widget-view+json": {
       "model_id": "4e64a6d1c48a4489943215e32a739670",
       "version_major": 2,
       "version_minor": 0
      },
      "text/plain": [
       "NGLWidget()"
      ]
     },
     "metadata": {},
     "output_type": "display_data"
    }
   ],
   "source": [
    "# visualize start.pdb\n",
    "start_pdb = mdtraj.load_pdb('start.pdb')\n",
    "view = nglview.show_mdtraj(start_pdb)\n",
    "view"
   ]
  },
  {
   "cell_type": "code",
   "execution_count": 5,
   "metadata": {},
   "outputs": [
    {
     "name": "stdout",
     "output_type": "stream",
     "text": [
      "Add protein bonds.\n",
      "Add nonbonded contacts.\n",
      "Add Debye-Huckel electrostatic interactions.\n",
      "Set Debye length as 0.7936507936507936 nm.\n",
      "Set water dielectric as 80.0.\n",
      "Use platform: CPU\n",
      "#\"Step\",\"Time (ps)\",\"Potential Energy (kJ/mole)\",\"Kinetic Energy (kJ/mole)\",\"Total Energy (kJ/mole)\",\"Temperature (K)\",\"Speed (ns/day)\"\n",
      "1000,9.999999999999831,11374.082802813911,25594.566739859503,36968.64954267342,299.63681492199635,0\n",
      "2000,20.000000000000327,9667.28862860752,26171.02218925213,35838.31081785965,306.38540639283536,139\n",
      "3000,30.00000000000189,9214.256684824151,25727.416121493323,34941.672806317474,301.19208897612293,137\n",
      "4000,40.00000000000061,8808.625514830886,25496.286965463452,34304.91248029434,298.4862489104442,135\n",
      "5000,49.99999999999862,8019.570466668446,25488.011973351982,33507.58244002043,298.389373182678,134\n",
      "6000,59.99999999999663,7453.66057297511,25603.965343567084,33057.625916542194,299.74684482436885,137\n",
      "7000,69.9999999999989,7091.843449108792,25458.43924020947,32550.282689318265,298.04316378372926,136\n",
      "8000,80.00000000000402,7071.638603111869,25915.643220942216,32987.28182405409,303.39567261690553,135\n",
      "9000,90.00000000000914,6851.786100769849,25527.56835461296,32379.354455382807,298.85246162685235,134\n",
      "10000,100.00000000001425,6554.685140800466,25748.37400803539,32303.059148835855,301.4374439545755,135\n"
     ]
    }
   ],
   "source": [
    "# set up simulation\n",
    "top = app.PDBFile('start.pdb').getTopology()\n",
    "a1lcd_condensate = MpipiModel()\n",
    "for i in range(n_mol):\n",
    "    a1lcd_condensate.append_mol(a1lcd)\n",
    "a1lcd_condensate.create_system(top, box_a=box_size, box_b=box_size, box_c=box_size)\n",
    "a1lcd_condensate.add_protein_bonds(force_group=1)\n",
    "#a1lcd_condensate.add_rna_bonds(force_group=2)\n",
    "a1lcd_condensate.add_contacts(force_group=3)\n",
    "a1lcd_condensate.add_dh_elec(ldby=(1/1.26)*unit.nanometer, force_group=4)\n",
    "temperature = 300*unit.kelvin\n",
    "friction_coeff = 1/unit.picosecond\n",
    "timestep = 10*unit.femtosecond\n",
    "integrator = mm.LangevinMiddleIntegrator(temperature, friction_coeff, timestep)\n",
    "init_coord = app.PDBFile('start.pdb').getPositions()\n",
    "a1lcd_condensate.set_simulation(integrator, platform_name='CPU', init_coord=init_coord)\n",
    "a1lcd_condensate.simulation.minimizeEnergy()\n",
    "output_interval = 1000\n",
    "output_dcd = 'output.dcd'\n",
    "a1lcd_condensate.add_reporters(output_interval, output_dcd)\n",
    "a1lcd_condensate.simulation.context.setVelocitiesToTemperature(temperature)\n",
    "a1lcd_condensate.simulation.step(10000)"
   ]
  },
  {
   "cell_type": "code",
   "execution_count": 6,
   "metadata": {},
   "outputs": [
    {
     "data": {
      "application/vnd.jupyter.widget-view+json": {
       "model_id": "335fc83e79a244aca387c90566e5c2d7",
       "version_major": 2,
       "version_minor": 0
      },
      "text/plain": [
       "NGLWidget(max_frame=9)"
      ]
     },
     "metadata": {},
     "output_type": "display_data"
    }
   ],
   "source": [
    "# view trajectory\n",
    "traj = mdtraj.load_dcd('output.dcd', top='start.pdb')\n",
    "traj.xyz -= np.mean(traj.xyz, axis=1, keepdims=True) # realign to the origin\n",
    "view = nglview.show_mdtraj(traj)\n",
    "view"
   ]
  },
  {
   "cell_type": "code",
   "execution_count": null,
   "metadata": {},
   "outputs": [],
   "source": []
  }
 ],
 "metadata": {
  "kernelspec": {
   "display_name": "cgmd",
   "language": "python",
   "name": "python3"
  },
  "language_info": {
   "codemirror_mode": {
    "name": "ipython",
    "version": 3
   },
   "file_extension": ".py",
   "mimetype": "text/x-python",
   "name": "python",
   "nbconvert_exporter": "python",
   "pygments_lexer": "ipython3",
   "version": "3.13.2"
  },
  "orig_nbformat": 4
 },
 "nbformat": 4,
 "nbformat_minor": 2
}
